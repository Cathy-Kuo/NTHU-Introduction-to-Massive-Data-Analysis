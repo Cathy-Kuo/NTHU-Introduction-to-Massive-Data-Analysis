{
 "cells": [
  {
   "cell_type": "markdown",
   "metadata": {},
   "source": [
    "MDA Final Project 106062212 郭蕙綺 "
   ]
  },
  {
   "cell_type": "code",
   "execution_count": 1,
   "metadata": {},
   "outputs": [],
   "source": [
    "from pyspark import SparkConf , SparkContext\n",
    "import operator\n",
    "import heapq\n",
    "import math"
   ]
  },
  {
   "cell_type": "code",
   "execution_count": 31,
   "metadata": {},
   "outputs": [],
   "source": [
    "sc.stop()"
   ]
  },
  {
   "cell_type": "markdown",
   "metadata": {},
   "source": [
    "mapper1 用來處理資料並append到lines。"
   ]
  },
  {
   "cell_type": "code",
   "execution_count": 2,
   "metadata": {},
   "outputs": [],
   "source": [
    "def mapper1(line):\n",
    "    wordlist = line.split(\"\\t\")\n",
    "    maplist = []\n",
    "    maplist.append((wordlist[0],[[int(wordlist[1]), float(wordlist[2])]]))\n",
    "    return maplist"
   ]
  },
  {
   "cell_type": "markdown",
   "metadata": {},
   "source": [
    "mapper2也是用來處理資料，與mapper1不同的是我只取movieID、評分，用來算後面的distance。"
   ]
  },
  {
   "cell_type": "code",
   "execution_count": 3,
   "metadata": {},
   "outputs": [],
   "source": [
    "def mapper2(line):\n",
    "    wordlist = line.split(\"\\t\")\n",
    "    maplist = []\n",
    "    maplist.append((wordlist[1],[wordlist[2]]))\n",
    "    return maplist"
   ]
  },
  {
   "cell_type": "markdown",
   "metadata": {},
   "source": [
    "reducer1 用來做值的相加與list相加。"
   ]
  },
  {
   "cell_type": "code",
   "execution_count": 4,
   "metadata": {},
   "outputs": [],
   "source": [
    "def reducer1(list1,list2):\n",
    "    return list1+list2"
   ]
  },
  {
   "cell_type": "markdown",
   "metadata": {},
   "source": [
    "mapper_dis用來計算各個movie的distance，算法：所有屬於該movie的rate平方相加，最後再開根號，append [ movieID, distance ]"
   ]
  },
  {
   "cell_type": "code",
   "execution_count": 5,
   "metadata": {},
   "outputs": [],
   "source": [
    "def mapper_dis(line):\n",
    "    movie = line[0]\n",
    "    rate = line[1]\n",
    "    dis = 0\n",
    "    maplist = []\n",
    "    for i in rate:\n",
    "        dis += float(i)**2\n",
    "    dis = dis**0.5\n",
    "    maplist.append([movie, dis])\n",
    "    return maplist"
   ]
  },
  {
   "cell_type": "markdown",
   "metadata": {},
   "source": [
    "mapper_r用來計算各個user對各個movie間的similarity，算法：同個user對兩個不同movie的rate相乘再除以兩個movie distance的乘積再做四捨五入到小數下5位，\n",
    "\n",
    "最後append ( ( movieID, movieID ), similarity )"
   ]
  },
  {
   "cell_type": "code",
   "execution_count": 6,
   "metadata": {},
   "outputs": [],
   "source": [
    "def mapper_r(line):\n",
    "    mix = line[1]\n",
    "    maplist = []\n",
    "    for i in range(len(mix)):\n",
    "        for j in range(i+1, len(mix)):\n",
    "            product = mix[i][1]*mix[j][1]\n",
    "            simi = round(product/(dis[mix[i][0]]*dis[mix[j][0]]), 5)\n",
    "            maplist.append(((mix[i][0], mix[j][0]), simi))\n",
    "    return maplist"
   ]
  },
  {
   "cell_type": "markdown",
   "metadata": {},
   "source": [
    "這裡開始執行的部分，首先conf的部分採取討論區同學提供的方法來跑大資料，接著data做完mapper1, mapper2後分別用lines, lines1來存，再分別將lines, lines1做reduceByKey，\n",
    "\n",
    "lines會形成 [ [ userID, [movieID, rate] ...]... ]，lines1會形成 [ [movieID, [rate...]...] "
   ]
  },
  {
   "cell_type": "code",
   "execution_count": 7,
   "metadata": {},
   "outputs": [],
   "source": [
    "conf = SparkConf().setMaster(\"local[*]\") \\\n",
    "    .setAppName(\"App_Name\") \\\n",
    "    .set('spark.executor.memory', '4G') \\\n",
    "    .set('spark.driver.memory', '45G') \\\n",
    "    .set('spark.driver.maxResultSize', '10G')\n",
    "sc = SparkContext(conf=conf)\n",
    "lines = sc.textFile(\"data_30.txt\").flatMap(mapper1)\n",
    "lines1 = sc.textFile(\"data_30.txt\").flatMap(mapper2)\n",
    "lines = lines.reduceByKey(reducer1)\n",
    "lines1 = lines1.reduceByKey(reducer1)"
   ]
  },
  {
   "cell_type": "markdown",
   "metadata": {},
   "source": [
    "這裡則是算出distance的部分，將lines1做mapper_dis，可以算出各個movie的distance，做完後將結果存到dis陣列，將distance放入該movie的陣列位置，方便之後做計算，在這裡我將dis陣列開為200000的大小，因為最大的movieID為190000多。"
   ]
  },
  {
   "cell_type": "code",
   "execution_count": 8,
   "metadata": {},
   "outputs": [],
   "source": [
    "lines1 = lines1.flatMap(mapper_dis)\n",
    "dis = [0]*200000\n",
    "lines1 = lines1.collect()\n",
    "for item in lines1:\n",
    "    dis[int(item[0])] = item[1]"
   ]
  },
  {
   "cell_type": "markdown",
   "metadata": {},
   "source": [
    "這裡算出最終結果，首先先將lines做mapper_r，將同個user對每部movie的評分做計算，會形成[ [ (movieID, movieID), rate乘積/distance乘積 ]...]，再做reduceByKey將每個user對每對movie形成的similarity相加，就會形成最終我們所要求的結果，最終我將similarity由大排到小後印出。"
   ]
  },
  {
   "cell_type": "code",
   "execution_count": 9,
   "metadata": {},
   "outputs": [],
   "source": [
    "lines = lines.flatMap(mapper_r)\n",
    "lines = lines.reduceByKey(reducer1)\n",
    "lines = lines.sortBy(lambda a: -a[1])\n",
    "lines = lines.collect()\n",
    "f = open(\"Outputfile.txt\", \"w\")\n",
    "f.write(str(lines))\n",
    "f.close()"
   ]
  },
  {
   "cell_type": "code",
   "execution_count": null,
   "metadata": {},
   "outputs": [],
   "source": []
  }
 ],
 "metadata": {
  "kernelspec": {
   "display_name": "Python 3",
   "language": "python",
   "name": "python3"
  },
  "language_info": {
   "codemirror_mode": {
    "name": "ipython",
    "version": 3
   },
   "file_extension": ".py",
   "mimetype": "text/x-python",
   "name": "python",
   "nbconvert_exporter": "python",
   "pygments_lexer": "ipython3",
   "version": "3.7.4"
  }
 },
 "nbformat": 4,
 "nbformat_minor": 2
}
