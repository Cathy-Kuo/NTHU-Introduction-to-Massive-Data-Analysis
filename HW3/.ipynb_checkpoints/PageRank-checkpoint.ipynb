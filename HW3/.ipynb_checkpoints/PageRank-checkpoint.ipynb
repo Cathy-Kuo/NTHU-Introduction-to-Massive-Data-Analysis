{
 "cells": [
  {
   "cell_type": "code",
   "execution_count": 1,
   "metadata": {},
   "outputs": [],
   "source": [
    "from pyspark import SparkConf , SparkContext\n",
    "import operator\n",
    "import heapq\n",
    "import math"
   ]
  },
  {
   "cell_type": "code",
   "execution_count": 22,
   "metadata": {},
   "outputs": [],
   "source": [
    "def mapper1(line):\n",
    "    wordlist = line.split(\" \")\n",
    "    maplist = []\n",
    "    l1=[0]*58\n",
    "    for i in range(58):\n",
    "        l1[i] = float(wordlist[i])\n",
    "    maplist.append(l1)\n",
    "    return maplist"
   ]
  },
  {
   "cell_type": "code",
   "execution_count": 23,
   "metadata": {},
   "outputs": [],
   "source": [
    "def reducer1(list1,list2):\n",
    "    return list1+list2"
   ]
  },
  {
   "cell_type": "code",
   "execution_count": 24,
   "metadata": {},
   "outputs": [],
   "source": [
    "conf=SparkConf().set(\"spark.default.parallelism\", 4)\n",
    "sc = SparkContext(conf=conf)\n",
    "c1 = sc.textFile(\"c1.txt\").flatMap(mapper1)\n",
    "data = sc.textFile(\"data.txt\").flatMap(mapper1)\n",
    "c1 = c1.take(10)"
   ]
  },
  {
   "cell_type": "code",
   "execution_count": 21,
   "metadata": {},
   "outputs": [],
   "source": [
    "sc.stop()"
   ]
  },
  {
   "cell_type": "code",
   "execution_count": 25,
   "metadata": {},
   "outputs": [],
   "source": [
    "def mapper2(line):\n",
    "    dist = 10000000\n",
    "    pos = 0\n",
    "    maplist = []\n",
    "    for i in range(10):\n",
    "        sig = 0\n",
    "        for j in range(58):\n",
    "            sig+=math.pow((c1[i][j]-line[j]), 2)\n",
    "        sig = sig**(0.5)\n",
    "        if sig<dist:\n",
    "            dist = sig\n",
    "            pos = i\n",
    "    maplist.append([pos, line, dist**2])\n",
    "    return maplist"
   ]
  },
  {
   "cell_type": "code",
   "execution_count": 26,
   "metadata": {},
   "outputs": [],
   "source": [
    "def mapper3(line):\n",
    "    maplist = []\n",
    "    maplist.append((line[0], line[1]))\n",
    "    return maplist"
   ]
  },
  {
   "cell_type": "code",
   "execution_count": 28,
   "metadata": {},
   "outputs": [],
   "source": [
    "def mapper4(line):\n",
    "    maplist = []\n",
    "    attr = line[1]\n",
    "    num = len(line[1])/58\n",
    "    num = int(num)\n",
    "    c = []\n",
    "    for i in range(58):\n",
    "        s = 0\n",
    "        for j in range(num):\n",
    "            s+=attr[58*j+i]\n",
    "        s = s/num\n",
    "        c.append(s)\n",
    "    maplist.append(c)\n",
    "    return maplist"
   ]
  },
  {
   "cell_type": "code",
   "execution_count": 30,
   "metadata": {},
   "outputs": [
    {
     "name": "stdout",
     "output_type": "stream",
     "text": [
      "round: 1\n",
      "623660345.3064235\n",
      "round: 2\n",
      "509862908.29754597\n",
      "round: 3\n",
      "485480681.8720084\n",
      "round: 4\n",
      "463997011.6850107\n",
      "round: 5\n",
      "460969266.57299405\n",
      "round: 6\n",
      "460537847.98277014\n",
      "round: 7\n",
      "460313099.65354246\n",
      "round: 8\n",
      "460003523.88940686\n",
      "round: 9\n",
      "459570539.3177354\n",
      "round: 10\n",
      "459021103.3422901\n",
      "round: 11\n",
      "458490656.1919808\n",
      "round: 12\n",
      "457944232.5879742\n",
      "round: 13\n",
      "457558005.1986796\n",
      "round: 14\n",
      "457290136.3523032\n",
      "round: 15\n",
      "457050555.0595639\n",
      "round: 16\n",
      "456892235.61535746\n",
      "round: 17\n",
      "456703630.7370357\n",
      "round: 18\n",
      "456404203.0189769\n",
      "round: 19\n",
      "456177800.54199505\n",
      "round: 20\n",
      "455986871.02734846\n"
     ]
    }
   ],
   "source": [
    "for ite in range(20):\n",
    "    print(\"round:\", ite+1)\n",
    "    cost = data.flatMap(mapper2)\n",
    "    cost1 = cost.take(4601)\n",
    "    clus = cost.flatMap(mapper3)\n",
    "    clus = clus.reduceByKey(reducer1)\n",
    "    lines = clus.take(10)\n",
    "    for line in lines:\n",
    "        attr = line[1]\n",
    "        num = len(line[1])/58\n",
    "        num = int(num)\n",
    "        for i in range(58):\n",
    "            s = 0\n",
    "            for j in range(num):\n",
    "                s+=attr[58*j+i]\n",
    "            s = s/num\n",
    "            c1[line[0]][i] = s\n",
    "    scost = 0\n",
    "    for k in range(4601):\n",
    "        scost +=cost1[k][2]\n",
    "    print(scost)"
   ]
  },
  {
   "cell_type": "code",
   "execution_count": null,
   "metadata": {},
   "outputs": [],
   "source": []
  }
 ],
 "metadata": {
  "kernelspec": {
   "display_name": "Python 3",
   "language": "python",
   "name": "python3"
  },
  "language_info": {
   "codemirror_mode": {
    "name": "ipython",
    "version": 3
   },
   "file_extension": ".py",
   "mimetype": "text/x-python",
   "name": "python",
   "nbconvert_exporter": "python",
   "pygments_lexer": "ipython3",
   "version": "3.7.3"
  }
 },
 "nbformat": 4,
 "nbformat_minor": 2
}
