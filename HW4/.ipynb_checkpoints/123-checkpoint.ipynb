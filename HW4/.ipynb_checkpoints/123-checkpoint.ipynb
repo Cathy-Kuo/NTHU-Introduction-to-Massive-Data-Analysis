{
 "cells": [
  {
   "cell_type": "code",
   "execution_count": 1,
   "metadata": {},
   "outputs": [],
   "source": [
    "from pyspark import SparkConf , SparkContext\n",
    "import operator"
   ]
  },
  {
   "cell_type": "code",
   "execution_count": null,
   "metadata": {},
   "outputs": [],
   "source": [
    "for i in range(101):\n",
    "    for j in range(46656):\n",
    "        arr[i][j] = i*j\n",
    "        print(arr[i][j])\n",
    "        print(\"\\n\")"
   ]
  },
  {
   "cell_type": "code",
   "execution_count": 34,
   "metadata": {},
   "outputs": [],
   "source": [
    "def mapper1(line):\n",
    "    wordlist = line.split(\" \")\n",
    "    maplist = []\n",
    "    j=wordlist[0]\n",
    "    maplist.append((j,[wordlist[1]]))\n",
    "    return maplist"
   ]
  },
  {
   "cell_type": "code",
   "execution_count": 35,
   "metadata": {},
   "outputs": [],
   "source": [
    "conf=SparkConf().set(\"spark.default.parallelism\", 4)\n",
    "sc = SparkContext(conf=conf)\n",
    "lines1 = sc.textFile(\"001.txt\").flatMap(mapper1)\n",
    "lines2 = sc.textFile(\"002.txt\").flatMap(mapper1)\n",
    "lines3 = sc.textFile(\"003.txt\").flatMap(mapper1)\n",
    "lines4 = sc.textFile(\"004.txt\").flatMap(mapper1)\n",
    "lines5 = sc.textFile(\"005.txt\").flatMap(mapper1)\n",
    "lines6 = sc.textFile(\"006.txt\").flatMap(mapper1)\n",
    "lines7 = sc.textFile(\"007.txt\").flatMap(mapper1)\n",
    "lines8 = sc.textFile(\"008.txt\").flatMap(mapper1)\n",
    "lines9 = sc.textFile(\"009.txt\").flatMap(mapper1)\n",
    "lines10 = sc.textFile(\"010.txt\").flatMap(mapper1)\n",
    "lines11 = sc.textFile(\"011.txt\").flatMap(mapper1)\n",
    "lines12 = sc.textFile(\"012.txt\").flatMap(mapper1)\n",
    "lines13 = sc.textFile(\"013.txt\").flatMap(mapper1)\n",
    "lines14 = sc.textFile(\"014.txt\").flatMap(mapper1)\n",
    "lines15 = sc.textFile(\"015.txt\").flatMap(mapper1)\n",
    "lines16 = sc.textFile(\"016.txt\").flatMap(mapper1)\n",
    "lines17 = sc.textFile(\"017.txt\").flatMap(mapper1)\n",
    "lines18 = sc.textFile(\"018.txt\").flatMap(mapper1)\n",
    "lines19 = sc.textFile(\"019.txt\").flatMap(mapper1)\n",
    "lines20 = sc.textFile(\"020.txt\").flatMap(mapper1)\n",
    "lines21 = sc.textFile(\"021.txt\").flatMap(mapper1)\n",
    "lines22 = sc.textFile(\"022.txt\").flatMap(mapper1)\n",
    "lines23 = sc.textFile(\"023.txt\").flatMap(mapper1)\n",
    "lines24 = sc.textFile(\"024.txt\").flatMap(mapper1)\n",
    "lines25 = sc.textFile(\"025.txt\").flatMap(mapper1)\n",
    "lines26 = sc.textFile(\"026.txt\").flatMap(mapper1)\n",
    "lines27 = sc.textFile(\"027.txt\").flatMap(mapper1)\n",
    "lines28 = sc.textFile(\"028.txt\").flatMap(mapper1)\n",
    "lines29 = sc.textFile(\"029.txt\").flatMap(mapper1)\n",
    "lines30 = sc.textFile(\"030.txt\").flatMap(mapper1)\n",
    "lines31 = sc.textFile(\"031.txt\").flatMap(mapper1)\n",
    "lines32 = sc.textFile(\"032.txt\").flatMap(mapper1)\n",
    "lines33 = sc.textFile(\"033.txt\").flatMap(mapper1)\n",
    "lines34 = sc.textFile(\"034.txt\").flatMap(mapper1)\n",
    "lines35 = sc.textFile(\"035.txt\").flatMap(mapper1)\n",
    "lines36 = sc.textFile(\"036.txt\").flatMap(mapper1)\n",
    "lines37 = sc.textFile(\"037.txt\").flatMap(mapper1)\n",
    "lines38 = sc.textFile(\"038.txt\").flatMap(mapper1)\n",
    "lines39 = sc.textFile(\"039.txt\").flatMap(mapper1)\n",
    "lines40 = sc.textFile(\"040.txt\").flatMap(mapper1)\n",
    "lines41 = sc.textFile(\"041.txt\").flatMap(mapper1)\n",
    "lines42 = sc.textFile(\"042.txt\").flatMap(mapper1)\n",
    "lines43 = sc.textFile(\"043.txt\").flatMap(mapper1)\n",
    "lines44 = sc.textFile(\"044.txt\").flatMap(mapper1)\n",
    "lines45 = sc.textFile(\"045.txt\").flatMap(mapper1)\n",
    "lines46 = sc.textFile(\"046.txt\").flatMap(mapper1)\n",
    "lines47 = sc.textFile(\"047.txt\").flatMap(mapper1)\n",
    "lines48 = sc.textFile(\"048.txt\").flatMap(mapper1)\n",
    "lines49 = sc.textFile(\"049.txt\").flatMap(mapper1)\n",
    "lines50 = sc.textFile(\"050.txt\").flatMap(mapper1)\n",
    "lines51 = sc.textFile(\"051.txt\").flatMap(mapper1)\n",
    "lines52 = sc.textFile(\"052.txt\").flatMap(mapper1)\n",
    "lines53 = sc.textFile(\"053.txt\").flatMap(mapper1)\n",
    "lines54 = sc.textFile(\"054.txt\").flatMap(mapper1)\n",
    "lines55 = sc.textFile(\"055.txt\").flatMap(mapper1)\n",
    "lines56 = sc.textFile(\"056.txt\").flatMap(mapper1)\n",
    "lines57 = sc.textFile(\"057.txt\").flatMap(mapper1)\n",
    "lines58 = sc.textFile(\"058.txt\").flatMap(mapper1)\n",
    "lines59 = sc.textFile(\"059.txt\").flatMap(mapper1)\n",
    "lines60 = sc.textFile(\"060.txt\").flatMap(mapper1)\n",
    "lines61 = sc.textFile(\"061.txt\").flatMap(mapper1)\n",
    "lines62 = sc.textFile(\"062.txt\").flatMap(mapper1)\n",
    "lines63 = sc.textFile(\"063.txt\").flatMap(mapper1)\n",
    "lines64 = sc.textFile(\"064.txt\").flatMap(mapper1)\n",
    "lines65 = sc.textFile(\"065.txt\").flatMap(mapper1)\n",
    "lines66 = sc.textFile(\"066.txt\").flatMap(mapper1)\n",
    "lines67 = sc.textFile(\"067.txt\").flatMap(mapper1)\n",
    "lines68 = sc.textFile(\"068.txt\").flatMap(mapper1)\n",
    "lines69 = sc.textFile(\"069.txt\").flatMap(mapper1)\n",
    "lines70 = sc.textFile(\"070.txt\").flatMap(mapper1)\n",
    "lines71 = sc.textFile(\"071.txt\").flatMap(mapper1)\n",
    "lines72 = sc.textFile(\"072.txt\").flatMap(mapper1)\n",
    "lines73 = sc.textFile(\"073.txt\").flatMap(mapper1)\n",
    "lines74 = sc.textFile(\"074.txt\").flatMap(mapper1)\n",
    "lines75 = sc.textFile(\"075.txt\").flatMap(mapper1)\n",
    "lines76 = sc.textFile(\"076.txt\").flatMap(mapper1)\n",
    "lines77 = sc.textFile(\"077.txt\").flatMap(mapper1)\n",
    "lines78 = sc.textFile(\"078.txt\").flatMap(mapper1)\n",
    "lines79 = sc.textFile(\"079.txt\").flatMap(mapper1)\n",
    "lines80 = sc.textFile(\"080.txt\").flatMap(mapper1)\n",
    "lines81 = sc.textFile(\"081.txt\").flatMap(mapper1)\n",
    "lines82 = sc.textFile(\"082.txt\").flatMap(mapper1)\n",
    "lines83 = sc.textFile(\"083.txt\").flatMap(mapper1)\n",
    "lines84 = sc.textFile(\"084.txt\").flatMap(mapper1)\n",
    "lines85 = sc.textFile(\"085.txt\").flatMap(mapper1)\n",
    "lines86 = sc.textFile(\"086.txt\").flatMap(mapper1)\n",
    "lines87 = sc.textFile(\"087.txt\").flatMap(mapper1)\n",
    "lines88 = sc.textFile(\"088.txt\").flatMap(mapper1)\n",
    "lines89 = sc.textFile(\"089.txt\").flatMap(mapper1)\n",
    "lines90 = sc.textFile(\"090.txt\").flatMap(mapper1)\n",
    "lines91 = sc.textFile(\"091.txt\").flatMap(mapper1)\n",
    "lines92 = sc.textFile(\"092.txt\").flatMap(mapper1)\n",
    "lines93 = sc.textFile(\"093.txt\").flatMap(mapper1)\n",
    "lines94 = sc.textFile(\"094.txt\").flatMap(mapper1)\n",
    "lines95 = sc.textFile(\"095.txt\").flatMap(mapper1)\n",
    "lines96 = sc.textFile(\"096.txt\").flatMap(mapper1)\n",
    "lines97 = sc.textFile(\"097.txt\").flatMap(mapper1)\n",
    "lines98 = sc.textFile(\"098.txt\").flatMap(mapper1)\n",
    "lines99 = sc.textFile(\"099.txt\").flatMap(mapper1)\n",
    "lines100 = sc.textFile(\"100.txt\").flatMap(mapper1)\n",
    "lines101 = sc.textFile(\"101.txt\").flatMap(mapper1)"
   ]
  },
  {
   "cell_type": "code",
   "execution_count": 33,
   "metadata": {},
   "outputs": [],
   "source": [
    "sc.stop()"
   ]
  },
  {
   "cell_type": "code",
   "execution_count": 36,
   "metadata": {},
   "outputs": [],
   "source": [
    "def reducer1(list1,list2):\n",
    "    return list1+list2"
   ]
  },
  {
   "cell_type": "code",
   "execution_count": 37,
   "metadata": {},
   "outputs": [],
   "source": [
    "lines = lines.reduceByKey(reducer1)\n",
    "#print(lines.collect())"
   ]
  },
  {
   "cell_type": "code",
   "execution_count": 38,
   "metadata": {},
   "outputs": [],
   "source": [
    "def mapper2(line):\n",
    "    wordlist = line[1]\n",
    "    maplist = []\n",
    "    p = 1/len(wordlist)\n",
    "    for i in wordlist:\n",
    "        backlist = [int(line[0]), p]\n",
    "        maplist.append((int(i),backlist))\n",
    "    return maplist"
   ]
  },
  {
   "cell_type": "code",
   "execution_count": 39,
   "metadata": {},
   "outputs": [],
   "source": [
    "lines = lines.flatMap(mapper2)\n",
    "#print(lines.collect())"
   ]
  },
  {
   "cell_type": "code",
   "execution_count": 40,
   "metadata": {},
   "outputs": [],
   "source": [
    "lines = lines.reduceByKey(reducer1)\n",
    "#print(lines.collect())\n",
    "linesD = lines.take(5)"
   ]
  },
  {
   "cell_type": "code",
   "execution_count": 41,
   "metadata": {},
   "outputs": [],
   "source": [
    "def mapper3(line):\n",
    "    i = line[0]\n",
    "    wordlist = []\n",
    "    for line1 in linesD:\n",
    "        if (line1[0]==line[0]):\n",
    "            wordlist = line1[1]\n",
    "    maplist = []\n",
    "    for j in range(0, len(wordlist), 2):\n",
    "        back = r[wordlist[j]] * 0.8 * wordlist[j+1]\n",
    "        maplist.append((i,back))\n",
    "    return maplist"
   ]
  },
  {
   "cell_type": "code",
   "execution_count": 42,
   "metadata": {},
   "outputs": [],
   "source": [
    "for k in range(100):\n",
    "    lines = lines.flatMap(mapper3)\n",
    "    #print(lines.collect())\n",
    "    lines = lines.reduceByKey(reducer1)\n",
    "    line = lines.take(5)\n",
    "    br = 0\n",
    "    for b in range(5):\n",
    "        br+=r[b]\n",
    "    br*=(0.2/5)\n",
    "    for i in range(5):\n",
    "        rNew[line[i][0]] = line[i][1]+br\n",
    "    sum = 0\n",
    "    for i in range(5):\n",
    "        sum +=rNew[i]\n",
    "    sn = (1-sum)/5\n",
    "    for i in range(5):\n",
    "        rNew[i] = rNew[i] + sn\n",
    "        #print(rNew[i])\n",
    "    for i in range(5):\n",
    "        if r[i]==rNew[i]:\n",
    "            if i==4:\n",
    "                converge=1\n",
    "            else:\n",
    "                continue\n",
    "        else:\n",
    "            break\n",
    "    if converge==1:\n",
    "        break\n",
    "    r = rNew"
   ]
  },
  {
   "cell_type": "code",
   "execution_count": 43,
   "metadata": {},
   "outputs": [
    {
     "name": "stdout",
     "output_type": "stream",
     "text": [
      "1\n"
     ]
    }
   ],
   "source": [
    "print(converge)"
   ]
  },
  {
   "cell_type": "code",
   "execution_count": null,
   "metadata": {},
   "outputs": [],
   "source": []
  }
 ],
 "metadata": {
  "kernelspec": {
   "display_name": "Python 3",
   "language": "python",
   "name": "python3"
  },
  "language_info": {
   "codemirror_mode": {
    "name": "ipython",
    "version": 3
   },
   "file_extension": ".py",
   "mimetype": "text/x-python",
   "name": "python",
   "nbconvert_exporter": "python",
   "pygments_lexer": "ipython3",
   "version": "3.7.4"
  }
 },
 "nbformat": 4,
 "nbformat_minor": 2
}
