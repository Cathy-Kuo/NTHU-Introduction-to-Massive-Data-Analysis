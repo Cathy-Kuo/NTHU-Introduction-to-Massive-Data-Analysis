{
 "cells": [
  {
   "cell_type": "markdown",
   "metadata": {},
   "source": [
    "MDA HW2 106062212 郭蕙綺 "
   ]
  },
  {
   "cell_type": "code",
   "execution_count": 1,
   "metadata": {},
   "outputs": [],
   "source": [
    "from pyspark import SparkConf , SparkContext\n",
    "import operator\n",
    "import heapq"
   ]
  },
  {
   "cell_type": "markdown",
   "metadata": {},
   "source": [
    "mapper1 用來處理資料並append到lines。"
   ]
  },
  {
   "cell_type": "code",
   "execution_count": 2,
   "metadata": {},
   "outputs": [],
   "source": [
    "def mapper1(line):\n",
    "    wordlist = line.split(\"\\t\")\n",
    "    maplist = []\n",
    "    j=wordlist[0]\n",
    "    maplist.append((j,[wordlist[1]]))\n",
    "    return maplist"
   ]
  },
  {
   "cell_type": "markdown",
   "metadata": {},
   "source": [
    "reducer1 用來做值得相加與list相加。"
   ]
  },
  {
   "cell_type": "code",
   "execution_count": 3,
   "metadata": {},
   "outputs": [],
   "source": [
    "def reducer1(list1,list2):\n",
    "    return list1+list2"
   ]
  },
  {
   "cell_type": "markdown",
   "metadata": {},
   "source": [
    "這裡使用討論區助教提供的加速方法（spark.default.parallelism）及呼叫mapper1來處理資料，將r陣列的初始值（pagerank）設為1/N，並開一個rNew陣列在之後存新的r值，由於node 10452、10493、10647是不存在的，所以將其r值設為0。"
   ]
  },
  {
   "cell_type": "code",
   "execution_count": 4,
   "metadata": {},
   "outputs": [],
   "source": [
    "conf=SparkConf().set(\"spark.default.parallelism\", 4)\n",
    "sc = SparkContext(conf=conf)\n",
    "lines = sc.textFile(\"p2p-Gnutella04.txt\").flatMap(mapper1)\n",
    "r = [1/10876] * 10879\n",
    "r[10452] = 0\n",
    "r[10493] = 0\n",
    "r[10647] = 0\n",
    "rNew = r\n",
    "converge = 0"
   ]
  },
  {
   "cell_type": "code",
   "execution_count": 27,
   "metadata": {},
   "outputs": [],
   "source": [
    "sc.stop()"
   ]
  },
  {
   "cell_type": "markdown",
   "metadata": {},
   "source": [
    "mapper2 主要整理出連接到每個node的點及其機率。傳進來的line前面為node，後面的list為前面node連出去的所有node，所以1/(list長度)為前面node連出去到各點的機率，由於後面各點算r值時需要找出連接到當前節點的所有點，所以append時將被連到的點放在前面，後面的list則是出發點及其機率。"
   ]
  },
  {
   "cell_type": "code",
   "execution_count": 5,
   "metadata": {},
   "outputs": [],
   "source": [
    "def mapper2(line):\n",
    "    wordlist = line[1]\n",
    "    maplist = []\n",
    "    p = 1/len(wordlist)\n",
    "    for i in wordlist:\n",
    "        backlist = [int(line[0]), p]\n",
    "        maplist.append((int(i),backlist))\n",
    "    return maplist"
   ]
  },
  {
   "cell_type": "code",
   "execution_count": 6,
   "metadata": {},
   "outputs": [],
   "source": [
    "lines = lines.reduceByKey(reducer1)\n",
    "lines = lines.flatMap(mapper2)\n",
    "lines = lines.reduceByKey(reducer1)\n",
    "linesD = lines.take(10876)"
   ]
  },
  {
   "cell_type": "markdown",
   "metadata": {},
   "source": [
    "mapper3 主要用來作運算。除了第一次外傳進來的line為（node, r[node]），lineD則為做完mapper2及reducer1後的lines（node, [node1, p1, node2, p2...]），先找出在lineD對應node的list，算出node的r值（為list裡面node的r值乘上0.8再乘上其機率）後append到maplist。"
   ]
  },
  {
   "cell_type": "code",
   "execution_count": 7,
   "metadata": {},
   "outputs": [],
   "source": [
    "def mapper3(line):\n",
    "    i = line[0]\n",
    "    wordlist = []\n",
    "    for line1 in linesD:\n",
    "        if (line1[0]==line[0]):\n",
    "            wordlist = line1[1]\n",
    "    maplist = []\n",
    "    for j in range(0, len(wordlist), 2):\n",
    "        back = r[wordlist[j]] * 0.8 * wordlist[j+1]\n",
    "        maplist.append((i,back))\n",
    "    return maplist"
   ]
  },
  {
   "cell_type": "markdown",
   "metadata": {},
   "source": [
    "這裡做iteration的部分。做完mapper3及reduce完後先將rNew清空，避免那些只有連出去而未被連到的節點因沒有被更新而在後面重複加到br，而br為0.2＊各r值的總和，接著取出lines的值後更新rNew值，並將所有rNew加上br即為新的r值，在這要將未出現的node的r值歸零，做normalize後即為最終的pagerank值。"
   ]
  },
  {
   "cell_type": "code",
   "execution_count": 8,
   "metadata": {},
   "outputs": [],
   "source": [
    "for k in range(20):\n",
    "    lines = lines.flatMap(mapper3)\n",
    "    #print(lines.collect())\n",
    "    lines = lines.reduceByKey(reducer1)\n",
    "    line = lines.take(10876)\n",
    "    br = 0\n",
    "    for b in range(10879):\n",
    "        br+=r[b]\n",
    "    br*=(0.2/10876)\n",
    "    for i in range(10879):\n",
    "        rNew[i] = 0\n",
    "    for line1 in line:\n",
    "        rNew[line1[0]] = line1[1]\n",
    "    for i in range(10879):\n",
    "        rNew[i] += br\n",
    "    rNew[10452] = 0\n",
    "    rNew[10493] = 0\n",
    "    rNew[10647] = 0\n",
    "    sum = 0\n",
    "    for i in range(10879):\n",
    "        sum +=rNew[i]\n",
    "    sn = (1-sum)/10876\n",
    "    for i in range(10879):\n",
    "        rNew[i] = rNew[i] + sn\n",
    "    rNew[10452] = 0\n",
    "    rNew[10493] = 0\n",
    "    rNew[10647] = 0\n",
    "    r = rNew"
   ]
  },
  {
   "cell_type": "markdown",
   "metadata": {},
   "source": [
    "這裡做sort的處理，找出前10名的pagerank，最後再寫到Outputfile就完成這次作業了。"
   ]
  },
  {
   "cell_type": "code",
   "execution_count": 9,
   "metadata": {
    "scrolled": false
   },
   "outputs": [],
   "source": [
    "ans = sorted(range(len(r)), key = lambda sub: r[sub])[-10:] \n",
    "f = open(\"Outputfile.txt\", \"w\")\n",
    "for i in range(10):\n",
    "    str1 = str(ans[9-i]) + ' ' + str(r[ans[9-i]]) + '\\n'\n",
    "    f.write(str1)\n",
    "f.close()"
   ]
  },
  {
   "cell_type": "code",
   "execution_count": null,
   "metadata": {},
   "outputs": [],
   "source": []
  }
 ],
 "metadata": {
  "kernelspec": {
   "display_name": "Python 3",
   "language": "python",
   "name": "python3"
  },
  "language_info": {
   "codemirror_mode": {
    "name": "ipython",
    "version": 3
   },
   "file_extension": ".py",
   "mimetype": "text/x-python",
   "name": "python",
   "nbconvert_exporter": "python",
   "pygments_lexer": "ipython3",
   "version": "3.7.4"
  }
 },
 "nbformat": 4,
 "nbformat_minor": 2
}
