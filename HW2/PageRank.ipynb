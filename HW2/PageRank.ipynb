{
 "cells": [
  {
   "cell_type": "code",
   "execution_count": 1,
   "metadata": {},
   "outputs": [],
   "source": [
    "from pyspark import SparkConf , SparkContext\n",
    "import operator\n",
    "import heapq"
   ]
  },
  {
   "cell_type": "code",
   "execution_count": 2,
   "metadata": {},
   "outputs": [],
   "source": [
    "def mapper1(line):\n",
    "    wordlist = line.split(\"\\t\")\n",
    "    maplist = []\n",
    "    j=wordlist[0]\n",
    "    maplist.append((j,[wordlist[1]]))\n",
    "    return maplist"
   ]
  },
  {
   "cell_type": "code",
   "execution_count": 3,
   "metadata": {},
   "outputs": [],
   "source": [
    "def reducer1(list1,list2):\n",
    "    return list1+list2"
   ]
  },
  {
   "cell_type": "code",
   "execution_count": 4,
   "metadata": {},
   "outputs": [],
   "source": [
    "conf=SparkConf().set(\"spark.default.parallelism\", 4)\n",
    "sc = SparkContext(conf=conf)\n",
    "lines = sc.textFile(\"p2p-Gnutella04.txt\").flatMap(mapper1)\n",
    "r = [1/10876] * 10879\n",
    "r[10452] = 0\n",
    "r[10493] = 0\n",
    "r[10647] = 0\n",
    "rNew = r\n",
    "converge = 0"
   ]
  },
  {
   "cell_type": "code",
   "execution_count": 27,
   "metadata": {},
   "outputs": [],
   "source": [
    "sc.stop()"
   ]
  },
  {
   "cell_type": "code",
   "execution_count": 5,
   "metadata": {},
   "outputs": [],
   "source": [
    "def mapper2(line):\n",
    "    wordlist = line[1]\n",
    "    maplist = []\n",
    "    p = 1/len(wordlist)\n",
    "    for i in wordlist:\n",
    "        backlist = [int(line[0]), p]\n",
    "        maplist.append((int(i),backlist))\n",
    "    return maplist"
   ]
  },
  {
   "cell_type": "code",
   "execution_count": 6,
   "metadata": {},
   "outputs": [],
   "source": [
    "lines = lines.reduceByKey(reducer1)\n",
    "lines = lines.flatMap(mapper2)\n",
    "lines = lines.reduceByKey(reducer1)\n",
    "linesD = lines.take(10876)"
   ]
  },
  {
   "cell_type": "code",
   "execution_count": 7,
   "metadata": {},
   "outputs": [],
   "source": [
    "def mapper3(line):\n",
    "    i = line[0]\n",
    "    wordlist = []\n",
    "    for line1 in linesD:\n",
    "        if (line1[0]==line[0]):\n",
    "            wordlist = line1[1]\n",
    "    maplist = []\n",
    "    for j in range(0, len(wordlist), 2):\n",
    "        back = r[wordlist[j]] * 0.8 * wordlist[j+1]\n",
    "        maplist.append((i,back))\n",
    "    return maplist"
   ]
  },
  {
   "cell_type": "markdown",
   "metadata": {},
   "source": [
    "這裡做sort的處理，找出前10名的pagerank，最後再寫到Outputfile就完成這次作業了。"
   ]
  },
  {
   "cell_type": "code",
   "execution_count": 9,
   "metadata": {
    "scrolled": false
   },
   "outputs": [],
   "source": [
    "ans = sorted(range(len(r)), key = lambda sub: r[sub])[-10:] \n",
    "f = open(\"Outputfile.txt\", \"w\")\n",
    "for i in range(10):\n",
    "    str1 = str(ans[9-i]) + ' ' + str(r[ans[9-i]]) + '\\n'\n",
    "    f.write(str1)\n",
    "f.close()"
   ]
  },
  {
   "cell_type": "code",
   "execution_count": null,
   "metadata": {},
   "outputs": [],
   "source": []
  }
 ],
 "metadata": {
  "kernelspec": {
   "display_name": "Python 3",
   "language": "python",
   "name": "python3"
  },
  "language_info": {
   "codemirror_mode": {
    "name": "ipython",
    "version": 3
   },
   "file_extension": ".py",
   "mimetype": "text/x-python",
   "name": "python",
   "nbconvert_exporter": "python",
   "pygments_lexer": "ipython3",
   "version": "3.7.4"
  }
 },
 "nbformat": 4,
 "nbformat_minor": 2
}
